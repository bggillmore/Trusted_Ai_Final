{
 "cells": [
  {
   "cell_type": "markdown",
   "metadata": {},
   "source": [
    "[![Open In Colab](https://colab.research.google.com/assets/colab-badge.svg)](https://colab.research.google.com/github/mostafaelaraby/wavegan-pytorch/blob/master/notebook.ipynb)\n"
   ]
  },
  {
   "cell_type": "markdown",
   "metadata": {
    "colab_type": "text",
    "id": "GYMymOZmXP05"
   },
   "source": [
    "## Cloning Repo and setup of dependencies"
   ]
  },
  {
   "cell_type": "code",
   "execution_count": null,
   "metadata": {
    "colab": {
     "base_uri": "https://localhost:8080/",
     "height": 125
    },
    "colab_type": "code",
    "id": "UMvZjUddXAte",
    "outputId": "6334f2f7-c7ea-4107-e7e5-0e90cccd58fe"
   },
   "outputs": [],
   "source": [
    "#!git clone https://github.com/mostafaelaraby/wavegan-pytorch.git"
   ]
  },
  {
   "cell_type": "code",
   "execution_count": 1,
   "metadata": {
    "colab": {},
    "colab_type": "code",
    "id": "daby8oFNXdH0"
   },
   "outputs": [],
   "source": [
    "import os\n",
    "os.chdir('./')"
   ]
  },
  {
   "cell_type": "code",
   "execution_count": 2,
   "metadata": {
    "colab": {
     "base_uri": "https://localhost:8080/",
     "height": 415
    },
    "colab_type": "code",
    "id": "ipSNRqjpXTLD",
    "outputId": "f28244a6-7fb7-4e92-83b2-a8a56b324f29"
   },
   "outputs": [
    {
     "name": "stdout",
     "output_type": "stream",
     "text": [
      "Requirement already satisfied: matplotlib>=2.2.4 in /home/cif/Documents/school/spring2024/trusted_ai/final/venv/lib/python3.12/site-packages (from -r requirements.txt (line 1)) (3.9.0)\n",
      "Requirement already satisfied: numpy>=1.16.3 in /home/cif/Documents/school/spring2024/trusted_ai/final/venv/lib/python3.12/site-packages (from -r requirements.txt (line 2)) (1.26.4)\n",
      "Requirement already satisfied: librosa>=0.6.3 in /home/cif/Documents/school/spring2024/trusted_ai/final/venv/lib/python3.12/site-packages (from -r requirements.txt (line 3)) (0.10.2.post1)\n",
      "Requirement already satisfied: pescador>=2.0.1 in /home/cif/Documents/school/spring2024/trusted_ai/final/venv/lib/python3.12/site-packages (from -r requirements.txt (line 4)) (3.0.0)\n",
      "Requirement already satisfied: torch>=1.1.0 in /home/cif/Documents/school/spring2024/trusted_ai/final/venv/lib/python3.12/site-packages (from -r requirements.txt (line 5)) (2.3.0)\n",
      "Requirement already satisfied: tqdm>=4.32.1 in /home/cif/Documents/school/spring2024/trusted_ai/final/venv/lib/python3.12/site-packages (from -r requirements.txt (line 6)) (4.66.4)\n",
      "Requirement already satisfied: contourpy>=1.0.1 in /home/cif/Documents/school/spring2024/trusted_ai/final/venv/lib/python3.12/site-packages (from matplotlib>=2.2.4->-r requirements.txt (line 1)) (1.2.1)\n",
      "Requirement already satisfied: cycler>=0.10 in /home/cif/Documents/school/spring2024/trusted_ai/final/venv/lib/python3.12/site-packages (from matplotlib>=2.2.4->-r requirements.txt (line 1)) (0.12.1)\n",
      "Requirement already satisfied: fonttools>=4.22.0 in /home/cif/Documents/school/spring2024/trusted_ai/final/venv/lib/python3.12/site-packages (from matplotlib>=2.2.4->-r requirements.txt (line 1)) (4.52.4)\n",
      "Requirement already satisfied: kiwisolver>=1.3.1 in /home/cif/Documents/school/spring2024/trusted_ai/final/venv/lib/python3.12/site-packages (from matplotlib>=2.2.4->-r requirements.txt (line 1)) (1.4.5)\n",
      "Requirement already satisfied: packaging>=20.0 in /home/cif/Documents/school/spring2024/trusted_ai/final/venv/lib/python3.12/site-packages (from matplotlib>=2.2.4->-r requirements.txt (line 1)) (24.0)\n",
      "Requirement already satisfied: pillow>=8 in /home/cif/Documents/school/spring2024/trusted_ai/final/venv/lib/python3.12/site-packages (from matplotlib>=2.2.4->-r requirements.txt (line 1)) (10.3.0)\n",
      "Requirement already satisfied: pyparsing>=2.3.1 in /home/cif/Documents/school/spring2024/trusted_ai/final/venv/lib/python3.12/site-packages (from matplotlib>=2.2.4->-r requirements.txt (line 1)) (3.1.2)\n",
      "Requirement already satisfied: python-dateutil>=2.7 in /home/cif/Documents/school/spring2024/trusted_ai/final/venv/lib/python3.12/site-packages (from matplotlib>=2.2.4->-r requirements.txt (line 1)) (2.9.0.post0)\n",
      "Requirement already satisfied: audioread>=2.1.9 in /home/cif/Documents/school/spring2024/trusted_ai/final/venv/lib/python3.12/site-packages (from librosa>=0.6.3->-r requirements.txt (line 3)) (3.0.1)\n",
      "Requirement already satisfied: scipy>=1.2.0 in /home/cif/Documents/school/spring2024/trusted_ai/final/venv/lib/python3.12/site-packages (from librosa>=0.6.3->-r requirements.txt (line 3)) (1.13.1)\n",
      "Requirement already satisfied: scikit-learn>=0.20.0 in /home/cif/Documents/school/spring2024/trusted_ai/final/venv/lib/python3.12/site-packages (from librosa>=0.6.3->-r requirements.txt (line 3)) (1.5.0)\n",
      "Requirement already satisfied: joblib>=0.14 in /home/cif/Documents/school/spring2024/trusted_ai/final/venv/lib/python3.12/site-packages (from librosa>=0.6.3->-r requirements.txt (line 3)) (1.4.2)\n",
      "Requirement already satisfied: decorator>=4.3.0 in /home/cif/Documents/school/spring2024/trusted_ai/final/venv/lib/python3.12/site-packages (from librosa>=0.6.3->-r requirements.txt (line 3)) (5.1.1)\n",
      "Requirement already satisfied: numba>=0.51.0 in /home/cif/Documents/school/spring2024/trusted_ai/final/venv/lib/python3.12/site-packages (from librosa>=0.6.3->-r requirements.txt (line 3)) (0.59.1)\n",
      "Requirement already satisfied: soundfile>=0.12.1 in /home/cif/Documents/school/spring2024/trusted_ai/final/venv/lib/python3.12/site-packages (from librosa>=0.6.3->-r requirements.txt (line 3)) (0.12.1)\n",
      "Requirement already satisfied: pooch>=1.1 in /home/cif/Documents/school/spring2024/trusted_ai/final/venv/lib/python3.12/site-packages (from librosa>=0.6.3->-r requirements.txt (line 3)) (1.8.1)\n",
      "Requirement already satisfied: soxr>=0.3.2 in /home/cif/Documents/school/spring2024/trusted_ai/final/venv/lib/python3.12/site-packages (from librosa>=0.6.3->-r requirements.txt (line 3)) (0.3.7)\n",
      "Requirement already satisfied: typing-extensions>=4.1.1 in /home/cif/Documents/school/spring2024/trusted_ai/final/venv/lib/python3.12/site-packages (from librosa>=0.6.3->-r requirements.txt (line 3)) (4.12.0)\n",
      "Requirement already satisfied: lazy-loader>=0.1 in /home/cif/Documents/school/spring2024/trusted_ai/final/venv/lib/python3.12/site-packages (from librosa>=0.6.3->-r requirements.txt (line 3)) (0.4)\n",
      "Requirement already satisfied: msgpack>=1.0 in /home/cif/Documents/school/spring2024/trusted_ai/final/venv/lib/python3.12/site-packages (from librosa>=0.6.3->-r requirements.txt (line 3)) (1.0.8)\n",
      "Requirement already satisfied: pyzmq>=18.0 in /home/cif/Documents/school/spring2024/trusted_ai/final/venv/lib/python3.12/site-packages (from pescador>=2.0.1->-r requirements.txt (line 4)) (26.0.3)\n",
      "Requirement already satisfied: filelock in /home/cif/Documents/school/spring2024/trusted_ai/final/venv/lib/python3.12/site-packages (from torch>=1.1.0->-r requirements.txt (line 5)) (3.14.0)\n",
      "Requirement already satisfied: sympy in /home/cif/Documents/school/spring2024/trusted_ai/final/venv/lib/python3.12/site-packages (from torch>=1.1.0->-r requirements.txt (line 5)) (1.12)\n",
      "Requirement already satisfied: networkx in /home/cif/Documents/school/spring2024/trusted_ai/final/venv/lib/python3.12/site-packages (from torch>=1.1.0->-r requirements.txt (line 5)) (3.3)\n",
      "Requirement already satisfied: jinja2 in /home/cif/Documents/school/spring2024/trusted_ai/final/venv/lib/python3.12/site-packages (from torch>=1.1.0->-r requirements.txt (line 5)) (3.1.4)\n",
      "Requirement already satisfied: fsspec in /home/cif/Documents/school/spring2024/trusted_ai/final/venv/lib/python3.12/site-packages (from torch>=1.1.0->-r requirements.txt (line 5)) (2024.5.0)\n",
      "Requirement already satisfied: nvidia-cuda-nvrtc-cu12==12.1.105 in /home/cif/Documents/school/spring2024/trusted_ai/final/venv/lib/python3.12/site-packages (from torch>=1.1.0->-r requirements.txt (line 5)) (12.1.105)\n",
      "Requirement already satisfied: nvidia-cuda-runtime-cu12==12.1.105 in /home/cif/Documents/school/spring2024/trusted_ai/final/venv/lib/python3.12/site-packages (from torch>=1.1.0->-r requirements.txt (line 5)) (12.1.105)\n",
      "Requirement already satisfied: nvidia-cuda-cupti-cu12==12.1.105 in /home/cif/Documents/school/spring2024/trusted_ai/final/venv/lib/python3.12/site-packages (from torch>=1.1.0->-r requirements.txt (line 5)) (12.1.105)\n",
      "Requirement already satisfied: nvidia-cudnn-cu12==8.9.2.26 in /home/cif/Documents/school/spring2024/trusted_ai/final/venv/lib/python3.12/site-packages (from torch>=1.1.0->-r requirements.txt (line 5)) (8.9.2.26)\n",
      "Requirement already satisfied: nvidia-cublas-cu12==12.1.3.1 in /home/cif/Documents/school/spring2024/trusted_ai/final/venv/lib/python3.12/site-packages (from torch>=1.1.0->-r requirements.txt (line 5)) (12.1.3.1)\n",
      "Requirement already satisfied: nvidia-cufft-cu12==11.0.2.54 in /home/cif/Documents/school/spring2024/trusted_ai/final/venv/lib/python3.12/site-packages (from torch>=1.1.0->-r requirements.txt (line 5)) (11.0.2.54)\n",
      "Requirement already satisfied: nvidia-curand-cu12==10.3.2.106 in /home/cif/Documents/school/spring2024/trusted_ai/final/venv/lib/python3.12/site-packages (from torch>=1.1.0->-r requirements.txt (line 5)) (10.3.2.106)\n",
      "Requirement already satisfied: nvidia-cusolver-cu12==11.4.5.107 in /home/cif/Documents/school/spring2024/trusted_ai/final/venv/lib/python3.12/site-packages (from torch>=1.1.0->-r requirements.txt (line 5)) (11.4.5.107)\n",
      "Requirement already satisfied: nvidia-cusparse-cu12==12.1.0.106 in /home/cif/Documents/school/spring2024/trusted_ai/final/venv/lib/python3.12/site-packages (from torch>=1.1.0->-r requirements.txt (line 5)) (12.1.0.106)\n",
      "Requirement already satisfied: nvidia-nccl-cu12==2.20.5 in /home/cif/Documents/school/spring2024/trusted_ai/final/venv/lib/python3.12/site-packages (from torch>=1.1.0->-r requirements.txt (line 5)) (2.20.5)\n",
      "Requirement already satisfied: nvidia-nvtx-cu12==12.1.105 in /home/cif/Documents/school/spring2024/trusted_ai/final/venv/lib/python3.12/site-packages (from torch>=1.1.0->-r requirements.txt (line 5)) (12.1.105)\n",
      "Requirement already satisfied: nvidia-nvjitlink-cu12 in /home/cif/Documents/school/spring2024/trusted_ai/final/venv/lib/python3.12/site-packages (from nvidia-cusolver-cu12==11.4.5.107->torch>=1.1.0->-r requirements.txt (line 5)) (12.5.40)\n",
      "Requirement already satisfied: llvmlite<0.43,>=0.42.0dev0 in /home/cif/Documents/school/spring2024/trusted_ai/final/venv/lib/python3.12/site-packages (from numba>=0.51.0->librosa>=0.6.3->-r requirements.txt (line 3)) (0.42.0)\n",
      "Requirement already satisfied: platformdirs>=2.5.0 in /home/cif/Documents/school/spring2024/trusted_ai/final/venv/lib/python3.12/site-packages (from pooch>=1.1->librosa>=0.6.3->-r requirements.txt (line 3)) (4.2.2)\n",
      "Requirement already satisfied: requests>=2.19.0 in /home/cif/Documents/school/spring2024/trusted_ai/final/venv/lib/python3.12/site-packages (from pooch>=1.1->librosa>=0.6.3->-r requirements.txt (line 3)) (2.32.3)\n",
      "Requirement already satisfied: six>=1.5 in /home/cif/Documents/school/spring2024/trusted_ai/final/venv/lib/python3.12/site-packages (from python-dateutil>=2.7->matplotlib>=2.2.4->-r requirements.txt (line 1)) (1.16.0)\n",
      "Requirement already satisfied: threadpoolctl>=3.1.0 in /home/cif/Documents/school/spring2024/trusted_ai/final/venv/lib/python3.12/site-packages (from scikit-learn>=0.20.0->librosa>=0.6.3->-r requirements.txt (line 3)) (3.5.0)\n",
      "Requirement already satisfied: cffi>=1.0 in /home/cif/Documents/school/spring2024/trusted_ai/final/venv/lib/python3.12/site-packages (from soundfile>=0.12.1->librosa>=0.6.3->-r requirements.txt (line 3)) (1.16.0)\n",
      "Requirement already satisfied: MarkupSafe>=2.0 in /home/cif/Documents/school/spring2024/trusted_ai/final/venv/lib/python3.12/site-packages (from jinja2->torch>=1.1.0->-r requirements.txt (line 5)) (2.1.5)\n",
      "Requirement already satisfied: mpmath>=0.19 in /home/cif/Documents/school/spring2024/trusted_ai/final/venv/lib/python3.12/site-packages (from sympy->torch>=1.1.0->-r requirements.txt (line 5)) (1.3.0)\n",
      "Requirement already satisfied: pycparser in /home/cif/Documents/school/spring2024/trusted_ai/final/venv/lib/python3.12/site-packages (from cffi>=1.0->soundfile>=0.12.1->librosa>=0.6.3->-r requirements.txt (line 3)) (2.22)\n",
      "Requirement already satisfied: charset-normalizer<4,>=2 in /home/cif/Documents/school/spring2024/trusted_ai/final/venv/lib/python3.12/site-packages (from requests>=2.19.0->pooch>=1.1->librosa>=0.6.3->-r requirements.txt (line 3)) (3.3.2)\n",
      "Requirement already satisfied: idna<4,>=2.5 in /home/cif/Documents/school/spring2024/trusted_ai/final/venv/lib/python3.12/site-packages (from requests>=2.19.0->pooch>=1.1->librosa>=0.6.3->-r requirements.txt (line 3)) (3.7)\n",
      "Requirement already satisfied: urllib3<3,>=1.21.1 in /home/cif/Documents/school/spring2024/trusted_ai/final/venv/lib/python3.12/site-packages (from requests>=2.19.0->pooch>=1.1->librosa>=0.6.3->-r requirements.txt (line 3)) (2.2.1)\n",
      "Requirement already satisfied: certifi>=2017.4.17 in /home/cif/Documents/school/spring2024/trusted_ai/final/venv/lib/python3.12/site-packages (from requests>=2.19.0->pooch>=1.1->librosa>=0.6.3->-r requirements.txt (line 3)) (2024.2.2)\n"
     ]
    }
   ],
   "source": [
    "!pip3  install -r requirements.txt"
   ]
  },
  {
   "cell_type": "markdown",
   "metadata": {
    "colab_type": "text",
    "id": "MyaocfY_XkCx"
   },
   "source": [
    "## Downloading Data"
   ]
  },
  {
   "cell_type": "markdown",
   "metadata": {
    "colab_type": "text",
    "id": "WXnrT31T3T4o"
   },
   "source": [
    "### Speech Commands Zero through Nine (SC09)"
   ]
  },
  {
   "cell_type": "code",
   "execution_count": 4,
   "metadata": {
    "colab": {
     "base_uri": "https://localhost:8080/",
     "height": 215
    },
    "colab_type": "code",
    "id": "59ZMe9PhXlRh",
    "outputId": "7a9d867d-76c5-45c5-88c7-2bfeee758c65"
   },
   "outputs": [
    {
     "name": "stdout",
     "output_type": "stream",
     "text": [
      "--2024-05-29 18:40:47--  http://deepyeti.ucsd.edu/cdonahue/wavegan/data/sc09.tar.gz\n",
      "Resolving deepyeti.ucsd.edu (deepyeti.ucsd.edu)... 169.228.63.50\n",
      "Connecting to deepyeti.ucsd.edu (deepyeti.ucsd.edu)|169.228.63.50|:80... connected.\n",
      "HTTP request sent, awaiting response... 404 Not Found\n",
      "2024-05-29 18:40:52 ERROR 404: Not Found.\n",
      "\n"
     ]
    }
   ],
   "source": [
    "#!wget http://deepyeti.ucsd.edu/cdonahue/wavegan/data/sc09.tar.gz"
   ]
  },
  {
   "cell_type": "code",
   "execution_count": null,
   "metadata": {
    "colab": {
     "base_uri": "https://localhost:8080/",
     "height": 1000
    },
    "colab_type": "code",
    "id": "hffl6t9fY8lQ",
    "outputId": "850be162-7c2b-4287-a4c3-11a710f13927"
   },
   "outputs": [],
   "source": [
    "#!tar -xvf sc09.tar.gz"
   ]
  },
  {
   "cell_type": "markdown",
   "metadata": {
    "colab_type": "text",
    "id": "tfdKEfBP3bnz"
   },
   "source": [
    "### Drum sound effects"
   ]
  },
  {
   "cell_type": "code",
   "execution_count": 5,
   "metadata": {
    "colab": {
     "base_uri": "https://localhost:8080/",
     "height": 215
    },
    "colab_type": "code",
    "id": "b5gGot_4X-gH",
    "outputId": "448907bf-9576-4ffb-db08-dab5fe431686"
   },
   "outputs": [
    {
     "name": "stdout",
     "output_type": "stream",
     "text": [
      "--2024-05-29 18:44:17--  http://deepyeti.ucsd.edu/cdonahue/wavegan/data/drums.tar.gz\n",
      "Resolving deepyeti.ucsd.edu (deepyeti.ucsd.edu)... 169.228.63.50\n",
      "Connecting to deepyeti.ucsd.edu (deepyeti.ucsd.edu)|169.228.63.50|:80... connected.\n",
      "HTTP request sent, awaiting response... 404 Not Found\n",
      "2024-05-29 18:44:22 ERROR 404: Not Found.\n",
      "\n"
     ]
    }
   ],
   "source": [
    "!wget http://deepyeti.ucsd.edu/cdonahue/wavegan/data/drums.tar.gz"
   ]
  },
  {
   "cell_type": "code",
   "execution_count": null,
   "metadata": {
    "colab": {
     "base_uri": "https://localhost:8080/",
     "height": 1000
    },
    "colab_type": "code",
    "id": "QphLdj5zY56t",
    "outputId": "647a2d1c-219e-4a10-8192-7e479482e3d0"
   },
   "outputs": [],
   "source": [
    "!tar -xvf drums.tar.gz"
   ]
  },
  {
   "cell_type": "markdown",
   "metadata": {
    "colab_type": "text",
    "id": "RgnM-ulA3fx3"
   },
   "source": [
    "### Bach piano performances"
   ]
  },
  {
   "cell_type": "code",
   "execution_count": null,
   "metadata": {
    "colab": {
     "base_uri": "https://localhost:8080/",
     "height": 215
    },
    "colab_type": "code",
    "id": "TdKGCMpnYGP4",
    "outputId": "a8f8adf4-35ef-4ef2-bfa9-57e9dc1409d5"
   },
   "outputs": [],
   "source": [
    "!wget http://deepyeti.ucsd.edu/cdonahue/wavegan/data/mancini_piano.tar.gz"
   ]
  },
  {
   "cell_type": "code",
   "execution_count": null,
   "metadata": {
    "colab": {
     "base_uri": "https://localhost:8080/",
     "height": 413
    },
    "colab_type": "code",
    "id": "HXZ9erR3Yvw8",
    "outputId": "60fe97dc-3a24-40fa-a87b-be6eaad0a48f"
   },
   "outputs": [],
   "source": [
    "!tar -xvf mancini_piano.tar.gz"
   ]
  },
  {
   "cell_type": "markdown",
   "metadata": {
    "colab_type": "text",
    "id": "SnS4lQeq62gS"
   },
   "source": [
    "### Params"
   ]
  },
  {
   "cell_type": "code",
   "execution_count": 3,
   "metadata": {
    "colab": {},
    "colab_type": "code",
    "id": "eImpOc6i64KU"
   },
   "outputs": [
    {
     "name": "stdout",
     "output_type": "stream",
     "text": [
      "import torch\n",
      "import random\n",
      "import numpy as np\n",
      "import logging\n",
      "import os\n",
      "\n",
      "#############################\n",
      "# DataSet Path\n",
      "#############################s\n",
      "target_signals_dir = \"/home/cif/Documents/school/spring2024/trusted_ai/final/wavegan_data/\" #\"../percept/sorted/beard/\" #'piano'\n",
      "#############################\n",
      "# Model Params\n",
      "#############################\n",
      "model_prefix = 'test' # name of the model to be saved\n",
      "n_iterations = 100000\n",
      "lr_g = 1e-4\n",
      "lr_d = 3e-4 # you can use with discriminator having a larger learning rate than generator instead of using n_critic updates ttur https://arxiv.org/abs/1706.08500\n",
      "beta1 = 0.5\n",
      "beta2 = 0.9\n",
      "use_batchnorm=False\n",
      "validate=True\n",
      "decay_lr = False # used to linearly deay learning rate untill reaching 0 at iteration 100,000\n",
      "generator_batch_size_factor = 1 # in some cases we might try to update the generator with double batch size used in the discriminator https://arxiv.org/abs/1706.08500\n",
      "n_critic = 1 # update generator every n_critic steps if lr_g = lr_d the n_critic's default value is 5 \n",
      "# gradient penalty regularization factor.\n",
      "p_coeff = 10\n",
      "batch_size = 10\n",
      "noise_latent_dim = 100  # size of the sampling noise\n",
      "model_capacity_size = 32    # model capacity during training can be reduced to 32 for larger window length of 2 seconds and 4 seconds\n",
      "# rate of storing validation and costs params\n",
      "store_cost_every = 300\n",
      "progress_bar_step_iter_size = 400\n",
      "#############################\n",
      "# Backup Params\n",
      "#############################\n",
      "take_backup = True\n",
      "backup_every_n_iters = 1000\n",
      "save_samples_every = 1000\n",
      "output_dir = 'output'\n",
      "if not(os.path.isdir(output_dir)):\n",
      "    os.makedirs(output_dir)\n",
      "#############################\n",
      "# Audio Reading Params\n",
      "#############################\n",
      "window_length = 65536 #[16384, 32768, 65536] in case of a longer window change model_capacity_size to 32\n",
      "sampling_rate = 16000\n",
      "normalize_audio = True \n",
      "num_channels = 1\n",
      "\n",
      "#############################\n",
      "# Logger init\n",
      "#############################\n",
      "LOGGER = logging.getLogger('wavegan')\n",
      "LOGGER.setLevel(logging.DEBUG)\n",
      "#############################\n",
      "# Torch Init and seed setting\n",
      "#############################\n",
      "cuda = torch.cuda.is_available()\n",
      "device = torch.device(\"cuda:0\" if (torch.cuda.is_available()) else \"cpu\")\n",
      "# update the seed\n",
      "manual_seed = 2019 \n",
      "random.seed(manual_seed)\n",
      "torch.manual_seed(manual_seed)\n",
      "np.random.seed(manual_seed)\n",
      "if cuda:\n",
      "    torch.cuda.manual_seed(manual_seed)\n",
      "    torch.cuda.empty_cache()\n"
     ]
    }
   ],
   "source": [
    "%cat params.py\n",
    "# copy cell content to next cell and edit your params then run "
   ]
  },
  {
   "cell_type": "code",
   "execution_count": 32,
   "metadata": {
    "colab": {
     "base_uri": "https://localhost:8080/",
     "height": 35
    },
    "colab_type": "code",
    "id": "F0_YaLJ67nVS",
    "outputId": "dd9ce7a5-2310-41a8-e139-32bdf6fe3e8c"
   },
   "outputs": [
    {
     "name": "stdout",
     "output_type": "stream",
     "text": [
      "Overwriting params.py\n"
     ]
    }
   ],
   "source": [
    "%%writefile params.py\n",
    "import torch\n",
    "import random\n",
    "import numpy as np\n",
    "import logging\n",
    "import os\n",
    "\n",
    "#############################\n",
    "# DataSet Path\n",
    "#############################s\n",
    "target_signals_dir = \"/home/cif/Documents/school/spring2024/trusted_ai/final/wavegan_data/\" #\"../percept/sorted/beard/\" #'piano'\n",
    "#############################\n",
    "# Model Params\n",
    "#############################\n",
    "model_prefix = 'test' # name of the model to be saved\n",
    "n_iterations = 100000\n",
    "lr_g = 1e-4\n",
    "lr_d = 3e-4 # you can use with discriminator having a larger learning rate than generator instead of using n_critic updates ttur https://arxiv.org/abs/1706.08500\n",
    "beta1 = 0.5\n",
    "beta2 = 0.9\n",
    "use_batchnorm=False\n",
    "validate=True\n",
    "decay_lr = False # used to linearly deay learning rate untill reaching 0 at iteration 100,000\n",
    "generator_batch_size_factor = 1 # in some cases we might try to update the generator with double batch size used in the discriminator https://arxiv.org/abs/1706.08500\n",
    "n_critic = 1 # update generator every n_critic steps if lr_g = lr_d the n_critic's default value is 5 \n",
    "# gradient penalty regularization factor.\n",
    "p_coeff = 10\n",
    "batch_size = 10\n",
    "noise_latent_dim = 100  # size of the sampling noise\n",
    "model_capacity_size = 32*1    # model capacity during training can be reduced to 32 for larger window length of 2 seconds and 4 seconds\n",
    "# rate of storing validation and costs params\n",
    "store_cost_every = 300\n",
    "progress_bar_step_iter_size = 400\n",
    "#############################\n",
    "# Backup Params\n",
    "#############################\n",
    "take_backup = True\n",
    "backup_every_n_iters = 1000\n",
    "save_samples_every = 1000\n",
    "output_dir = 'output'\n",
    "if not(os.path.isdir(output_dir)):\n",
    "    os.makedirs(output_dir)\n",
    "#############################\n",
    "# Audio Reading Params\n",
    "#############################\n",
    "window_length = 16384 #[16384, 32768, 65536] in case of a longer window change model_capacity_size to 32\n",
    "sampling_rate = 16000\n",
    "normalize_audio = True \n",
    "num_channels = 1\n",
    "\n",
    "#############################\n",
    "# Logger init\n",
    "#############################\n",
    "LOGGER = logging.getLogger('wavegan')\n",
    "LOGGER.setLevel(logging.DEBUG)\n",
    "#############################\n",
    "# Torch Init and seed setting\n",
    "#############################\n",
    "cuda = torch.cuda.is_available()\n",
    "device = torch.device(\"cuda:0\" if (torch.cuda.is_available()) else \"cpu\")\n",
    "# update the seed\n",
    "manual_seed = 2019 \n",
    "random.seed(manual_seed)\n",
    "torch.manual_seed(manual_seed)\n",
    "np.random.seed(manual_seed)\n",
    "if cuda:\n",
    "    torch.cuda.manual_seed(manual_seed)\n",
    "    torch.cuda.empty_cache()"
   ]
  },
  {
   "cell_type": "markdown",
   "metadata": {
    "colab_type": "text",
    "id": "NUo6Kmg3ZPwy"
   },
   "source": [
    "## Model Training"
   ]
  },
  {
   "cell_type": "code",
   "execution_count": 33,
   "metadata": {
    "colab": {
     "base_uri": "https://localhost:8080/",
     "height": 64
    },
    "colab_type": "code",
    "id": "V4HQdcGpZL-w",
    "outputId": "8257f56b-fcea-4aab-aae1-df84fb7342cd"
   },
   "outputs": [
    {
     "name": "stdout",
     "output_type": "stream",
     "text": [
      "True\n",
      "  0%|                                                   | 0/250 [00:00<?, ?it/s]/home/cif/Documents/school/spring2024/trusted_ai/final/venv/lib/python3.12/site-packages/torch/autograd/graph.py:744: UserWarning: Attempting to run cuBLAS, but there was no current CUDA context! Attempting to set the primary context... (Triggered internally at ../aten/src/ATen/cuda/CublasHandlePool.cpp:135.)\n",
      "  return Variable._execution_engine.run_backward(  # Calls into the C++ engine to run the backward pass\n",
      "/home/cif/Documents/school/spring2024/trusted_ai/final/venv/lib/python3.12/site-packages/torch/autograd/graph.py:744: UserWarning: Plan failed with a cudnnException: CUDNN_BACKEND_EXECUTION_PLAN_DESCRIPTOR: cudnnFinalize Descriptor Failed cudnn_status: CUDNN_STATUS_NOT_SUPPORTED (Triggered internally at ../aten/src/ATen/native/cudnn/Conv_v8.cpp:919.)\n",
      "  return Variable._execution_engine.run_backward(  # Calls into the C++ engine to run the backward pass\n",
      " 20%|▏| 51/250 [05:52<23:05,  6.96s/it, Loss_D WD=3.5769121646881104, Loss_G=-0./home/cif/Documents/school/spring2024/trusted_ai/final/wavegan-pytorch/utils.py:45: RuntimeWarning: More than 20 figures have been opened. Figures created through the pyplot interface (`matplotlib.pyplot.figure`) are retained until explicitly closed and may consume too much memory. (To control this warning, see the rcParam `figure.max_open_warning`). Consider using `matplotlib.pyplot.close()`.\n",
      "  plt.figure(figsize=(18, 50))\n",
      "100%|█| 250/250 [29:26<00:00,  7.07s/it, Loss_D WD=4.75485897064209, Loss_G=-1.7\n",
      "Figure(1800x5000)\n",
      "Figure(1800x5000)\n",
      "Figure(1800x5000)\n",
      "Figure(1800x5000)\n",
      "Figure(1800x5000)\n",
      "Figure(1800x5000)\n",
      "Figure(1800x5000)\n",
      "Figure(1800x5000)\n",
      "Figure(1800x5000)\n",
      "Figure(1800x5000)\n",
      "Figure(1800x5000)\n",
      "Figure(1800x5000)\n",
      "Figure(1800x5000)\n",
      "Figure(1800x5000)\n",
      "Figure(1800x5000)\n",
      "Figure(1800x5000)\n",
      "Figure(1800x5000)\n",
      "Figure(1800x5000)\n",
      "Figure(1800x5000)\n",
      "Figure(1800x5000)\n",
      "Figure(1800x5000)\n",
      "Figure(1800x5000)\n",
      "Figure(1800x5000)\n",
      "Figure(1800x5000)\n",
      "Figure(1800x5000)\n",
      "Figure(1800x5000)\n",
      "Figure(1800x5000)\n",
      "Figure(1800x5000)\n",
      "Figure(1800x5000)\n",
      "Figure(1800x5000)\n",
      "Figure(1800x5000)\n",
      "Figure(1800x5000)\n",
      "Figure(1800x5000)\n",
      "Figure(1800x5000)\n",
      "Figure(1800x5000)\n",
      "Figure(1800x5000)\n",
      "Figure(1800x5000)\n",
      "Figure(1800x5000)\n",
      "Figure(1800x5000)\n",
      "Figure(1800x5000)\n",
      "Figure(1800x5000)\n",
      "Figure(1800x5000)\n",
      "Figure(1800x5000)\n",
      "Figure(1800x5000)\n",
      "Figure(1800x5000)\n",
      "Figure(1800x5000)\n",
      "Figure(1800x5000)\n",
      "Figure(1800x5000)\n",
      "Figure(1800x5000)\n",
      "Figure(1800x5000)\n",
      "Figure(1800x5000)\n",
      "Figure(1800x5000)\n",
      "Figure(1800x5000)\n",
      "Figure(1800x5000)\n",
      "Figure(1800x5000)\n",
      "Figure(1800x5000)\n",
      "Figure(1800x5000)\n",
      "Figure(1800x5000)\n",
      "Figure(1800x5000)\n",
      "Figure(1800x5000)\n",
      "Figure(1800x5000)\n",
      "Figure(1800x5000)\n",
      "Figure(1800x5000)\n",
      "Figure(1800x5000)\n",
      "Figure(1800x5000)\n",
      "Figure(1800x5000)\n",
      "Figure(1800x5000)\n",
      "Figure(1800x5000)\n",
      "Figure(1800x5000)\n",
      "Figure(1800x5000)\n",
      "Figure(1800x5000)\n",
      "Figure(1800x5000)\n",
      "Figure(1800x5000)\n",
      "Figure(1800x5000)\n",
      "Figure(1800x5000)\n",
      "Figure(1800x5000)\n",
      "Figure(1800x5000)\n",
      "Figure(1800x5000)\n",
      "Figure(1800x5000)\n",
      "Figure(1800x5000)\n",
      "Figure(1800x5000)\n",
      "Figure(1800x5000)\n",
      "Figure(1800x5000)\n",
      "Figure(1800x5000)\n",
      "Figure(1800x5000)\n",
      "Figure(1800x5000)\n",
      "Figure(1800x5000)\n",
      "Figure(1800x5000)\n",
      "Figure(1800x5000)\n",
      "Figure(1800x5000)\n",
      "Figure(1800x5000)\n",
      "Figure(1800x5000)\n",
      "Figure(1800x5000)\n",
      "Figure(1800x5000)\n",
      "Figure(1800x5000)\n",
      "Figure(1800x5000)\n",
      "Figure(1800x5000)\n",
      "Figure(1800x5000)\n",
      "Figure(1800x5000)\n",
      "Figure(1800x5000)\n",
      "Figure(1000x500)\n"
     ]
    }
   ],
   "source": [
    "import librosa.display\n",
    "import torch\n",
    "import soundfile as sf\n",
    "print(torch.cuda.is_available())\n",
    "torch.cuda.current_device()\n",
    "\n",
    "!python3  train.py"
   ]
  },
  {
   "cell_type": "code",
   "execution_count": null,
   "metadata": {},
   "outputs": [],
   "source": []
  },
  {
   "cell_type": "code",
   "execution_count": null,
   "metadata": {},
   "outputs": [],
   "source": []
  }
 ],
 "metadata": {
  "accelerator": "GPU",
  "colab": {
   "name": "WaveGan.ipynb",
   "provenance": [],
   "toc_visible": true
  },
  "kernelspec": {
   "display_name": "Python 3 (ipykernel)",
   "language": "python",
   "name": "python3"
  },
  "language_info": {
   "codemirror_mode": {
    "name": "ipython",
    "version": 3
   },
   "file_extension": ".py",
   "mimetype": "text/x-python",
   "name": "python",
   "nbconvert_exporter": "python",
   "pygments_lexer": "ipython3",
   "version": "3.12.3"
  }
 },
 "nbformat": 4,
 "nbformat_minor": 4
}
